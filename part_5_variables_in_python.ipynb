{
 "cells": [
  {
   "cell_type": "markdown",
   "id": "b568d674-6be3-4fce-879f-f62a3095043b",
   "metadata": {
    "tags": []
   },
   "source": [
    "### Variables in Python"
   ]
  },
  {
   "cell_type": "markdown",
   "id": "86485fbb-06ed-4daa-ad5f-4aa81752e2b0",
   "metadata": {
    "tags": []
   },
   "source": [
    "#### What is variable?\n",
    "\n",
    "<ul>\n",
    "    <li>Variables are containers for storing data values.</li>\n",
    "<li>Python has no command for declaring a variable.</li>\n",
    "<li>A variable is created the moment you first assign a value to it.</li>\n",
    "</ul>"
   ]
  },
  {
   "cell_type": "code",
   "execution_count": 4,
   "id": "9d8b54fe-dfb6-4d23-9683-339410f3b548",
   "metadata": {},
   "outputs": [],
   "source": [
    "x = 10\n",
    "\n",
    "name = \"Anura\""
   ]
  },
  {
   "cell_type": "code",
   "execution_count": 6,
   "id": "f2a0c6eb-5109-4d84-adf5-a0d15fd051bc",
   "metadata": {},
   "outputs": [
    {
     "data": {
      "text/plain": [
       "'Anura'"
      ]
     },
     "execution_count": 6,
     "metadata": {},
     "output_type": "execute_result"
    }
   ],
   "source": [
    "name"
   ]
  },
  {
   "cell_type": "code",
   "execution_count": 1,
   "id": "3c342afb-ee49-4bf6-8e43-af896932dd98",
   "metadata": {},
   "outputs": [],
   "source": [
    "y = 5"
   ]
  },
  {
   "cell_type": "code",
   "execution_count": 2,
   "id": "c2bbd6d4-54a5-4d53-81ba-2b9fca03a2f7",
   "metadata": {},
   "outputs": [
    {
     "data": {
      "text/plain": [
       "5"
      ]
     },
     "execution_count": 2,
     "metadata": {},
     "output_type": "execute_result"
    }
   ],
   "source": [
    "y"
   ]
  },
  {
   "cell_type": "code",
   "execution_count": 5,
   "id": "c5db8522-f928-4088-8b2c-95277db36a5b",
   "metadata": {},
   "outputs": [
    {
     "data": {
      "text/plain": [
       "10"
      ]
     },
     "execution_count": 5,
     "metadata": {},
     "output_type": "execute_result"
    }
   ],
   "source": [
    "x"
   ]
  },
  {
   "cell_type": "markdown",
   "id": "c0c3eb30-c3c9-45e0-b01b-dd80032b3097",
   "metadata": {
    "tags": []
   },
   "source": [
    "#### Guidelines for Variable Names\n",
    "\n",
    "A variable can have a short name (like x and y) or a more descriptive name (age, carname, total_volume). Rules for Python variables:\n",
    "\n",
    "<ul>\n",
    "    <li>A variable name must start with a letter or the underscore character</li>\n",
    "    <li>A variable name cannot start with a number</li>\n",
    "    <li>A variable name can only contain alpha-numeric characters and underscores (A-z, 0-9, and _ )</li>\n",
    "    <li>Variable names are case-sensitive (age, Age and AGE are three different variables)</li>\n",
    "    <li>A variable name cannot be any of the <a href=\"https://www.w3schools.com/python/python_ref_keywords.asp\" target=\"_blank\">Python keywords</a>.</li>\n",
    "</ul>\n"
   ]
  },
  {
   "cell_type": "code",
   "execution_count": 7,
   "id": "5aaca850-a7bf-4fae-8399-24284f367348",
   "metadata": {},
   "outputs": [],
   "source": [
    "age = 41"
   ]
  },
  {
   "cell_type": "code",
   "execution_count": 8,
   "id": "bd696189-e5e1-4b40-9941-2d6a9ca90954",
   "metadata": {},
   "outputs": [
    {
     "data": {
      "text/plain": [
       "41"
      ]
     },
     "execution_count": 8,
     "metadata": {},
     "output_type": "execute_result"
    }
   ],
   "source": [
    "age"
   ]
  },
  {
   "cell_type": "code",
   "execution_count": null,
   "id": "4ff61d3a-73fc-43b3-ae0b-c49a3d4a52b0",
   "metadata": {},
   "outputs": [],
   "source": [
    "# 5, 10, 15\n",
    "\n",
    "x = 5\n",
    "y = 10\n",
    "z = 15\n"
   ]
  },
  {
   "cell_type": "code",
   "execution_count": 9,
   "id": "8ddf2703-3ec2-4bdb-b1ed-aaaf3527df9e",
   "metadata": {},
   "outputs": [
    {
     "ename": "SyntaxError",
     "evalue": "invalid decimal literal (1187545790.py, line 1)",
     "output_type": "error",
     "traceback": [
      "\u001b[0;36m  Cell \u001b[0;32mIn[9], line 1\u001b[0;36m\u001b[0m\n\u001b[0;31m    1num = 1\u001b[0m\n\u001b[0m    ^\u001b[0m\n\u001b[0;31mSyntaxError\u001b[0m\u001b[0;31m:\u001b[0m invalid decimal literal\n"
     ]
    }
   ],
   "source": [
    "1num = 1"
   ]
  },
  {
   "cell_type": "code",
   "execution_count": 10,
   "id": "3a32890c-fb01-45cf-a864-9d845bd03473",
   "metadata": {},
   "outputs": [],
   "source": [
    "num1 = 1"
   ]
  },
  {
   "cell_type": "code",
   "execution_count": 11,
   "id": "74e6a63b-ff7d-43f3-a49a-a94d7cd8d364",
   "metadata": {},
   "outputs": [
    {
     "data": {
      "text/plain": [
       "1"
      ]
     },
     "execution_count": 11,
     "metadata": {},
     "output_type": "execute_result"
    }
   ],
   "source": [
    "num1"
   ]
  },
  {
   "cell_type": "code",
   "execution_count": 12,
   "id": "6fd187f1-fcdb-4f00-a0c1-181a4e2486cb",
   "metadata": {},
   "outputs": [],
   "source": [
    "user_name = \"Sivan\""
   ]
  },
  {
   "cell_type": "code",
   "execution_count": 13,
   "id": "5b973caa-5900-4dd1-a230-b584c5132e5e",
   "metadata": {},
   "outputs": [
    {
     "data": {
      "text/plain": [
       "'Sivan'"
      ]
     },
     "execution_count": 13,
     "metadata": {},
     "output_type": "execute_result"
    }
   ],
   "source": [
    "user_name"
   ]
  },
  {
   "cell_type": "code",
   "execution_count": 15,
   "id": "166095ec-0c4e-4c15-ba3b-1dc167e6c1c4",
   "metadata": {},
   "outputs": [],
   "source": [
    "Age = 21"
   ]
  },
  {
   "cell_type": "code",
   "execution_count": 14,
   "id": "b8eec47f-5dae-4fd1-9af5-6ec1bd3675e5",
   "metadata": {},
   "outputs": [],
   "source": [
    "AGE = 11"
   ]
  },
  {
   "cell_type": "code",
   "execution_count": 16,
   "id": "89968864-2677-44ec-9571-a65f03260f51",
   "metadata": {},
   "outputs": [
    {
     "name": "stdout",
     "output_type": "stream",
     "text": [
      "41, 21, 11\n"
     ]
    }
   ],
   "source": [
    "print(f\"{age}, {Age}, {AGE}\")"
   ]
  },
  {
   "cell_type": "markdown",
   "id": "c42b8440-be34-497f-8faf-0b34fa37dd36",
   "metadata": {
    "tags": []
   },
   "source": [
    "#### Many Values to Multiple Variables\n",
    "\n",
    "Python allows you to assign values to multiple variables in one line:"
   ]
  },
  {
   "cell_type": "code",
   "execution_count": null,
   "id": "8802597e-3f24-4691-8fcf-794609f22609",
   "metadata": {},
   "outputs": [],
   "source": []
  },
  {
   "cell_type": "code",
   "execution_count": 17,
   "id": "8d68eed6-1f8b-47d0-ae62-7a61dba84850",
   "metadata": {},
   "outputs": [],
   "source": [
    "x, y, z = \"Orange\", \"Banana\", \"Cherry\""
   ]
  },
  {
   "cell_type": "code",
   "execution_count": 18,
   "id": "c1ae1b00-1064-46ca-9fe8-3f64bd05e05e",
   "metadata": {},
   "outputs": [
    {
     "data": {
      "text/plain": [
       "'Orange'"
      ]
     },
     "execution_count": 18,
     "metadata": {},
     "output_type": "execute_result"
    }
   ],
   "source": [
    "x"
   ]
  },
  {
   "cell_type": "code",
   "execution_count": 19,
   "id": "ba44a605-adb8-478a-9b6e-3e25048d6ffb",
   "metadata": {},
   "outputs": [
    {
     "data": {
      "text/plain": [
       "'Banana'"
      ]
     },
     "execution_count": 19,
     "metadata": {},
     "output_type": "execute_result"
    }
   ],
   "source": [
    "y"
   ]
  },
  {
   "cell_type": "code",
   "execution_count": 20,
   "id": "ee5d340b-9f94-4fb3-8958-20d35f386489",
   "metadata": {},
   "outputs": [
    {
     "data": {
      "text/plain": [
       "'Cherry'"
      ]
     },
     "execution_count": 20,
     "metadata": {},
     "output_type": "execute_result"
    }
   ],
   "source": [
    "z"
   ]
  },
  {
   "cell_type": "code",
   "execution_count": 21,
   "id": "3f1b4727-e80e-4dd3-9ede-cc180c2f47f0",
   "metadata": {},
   "outputs": [],
   "source": [
    "x = y = z = \"Mango\""
   ]
  },
  {
   "cell_type": "code",
   "execution_count": 22,
   "id": "00b1b1b1-5c39-474b-b839-9dada4546c05",
   "metadata": {},
   "outputs": [
    {
     "data": {
      "text/plain": [
       "'Mango'"
      ]
     },
     "execution_count": 22,
     "metadata": {},
     "output_type": "execute_result"
    }
   ],
   "source": [
    "x"
   ]
  },
  {
   "cell_type": "code",
   "execution_count": 23,
   "id": "7d850233-51a0-4110-9899-e5466fcb3534",
   "metadata": {},
   "outputs": [
    {
     "data": {
      "text/plain": [
       "'Mango'"
      ]
     },
     "execution_count": 23,
     "metadata": {},
     "output_type": "execute_result"
    }
   ],
   "source": [
    "y"
   ]
  },
  {
   "cell_type": "code",
   "execution_count": 24,
   "id": "14796376-c229-40a7-a80e-70275c629aa1",
   "metadata": {},
   "outputs": [
    {
     "data": {
      "text/plain": [
       "'Mango'"
      ]
     },
     "execution_count": 24,
     "metadata": {},
     "output_type": "execute_result"
    }
   ],
   "source": [
    "z"
   ]
  },
  {
   "cell_type": "code",
   "execution_count": 25,
   "id": "1e66fda4-35cd-44bb-b593-31a874b6dcf0",
   "metadata": {},
   "outputs": [],
   "source": [
    "x, y, z = \"Fig\""
   ]
  },
  {
   "cell_type": "code",
   "execution_count": 26,
   "id": "1b5f8c75-cb6f-490e-b8a7-c1c1310468fe",
   "metadata": {},
   "outputs": [
    {
     "data": {
      "text/plain": [
       "'F'"
      ]
     },
     "execution_count": 26,
     "metadata": {},
     "output_type": "execute_result"
    }
   ],
   "source": [
    "x"
   ]
  },
  {
   "cell_type": "code",
   "execution_count": 27,
   "id": "de9c0039-c00d-4224-97df-723cc1998a01",
   "metadata": {},
   "outputs": [
    {
     "data": {
      "text/plain": [
       "'i'"
      ]
     },
     "execution_count": 27,
     "metadata": {},
     "output_type": "execute_result"
    }
   ],
   "source": [
    "y"
   ]
  },
  {
   "cell_type": "code",
   "execution_count": 28,
   "id": "d58bb966-1f67-4e83-8651-b2f2fc5d9452",
   "metadata": {},
   "outputs": [
    {
     "data": {
      "text/plain": [
       "'g'"
      ]
     },
     "execution_count": 28,
     "metadata": {},
     "output_type": "execute_result"
    }
   ],
   "source": [
    "z"
   ]
  },
  {
   "cell_type": "code",
   "execution_count": 29,
   "id": "203f84b7-0348-45f4-9895-01687d61aca4",
   "metadata": {},
   "outputs": [],
   "source": [
    "fruits = [\"Orange\", \"Banana\", \"Cherry\"]"
   ]
  },
  {
   "cell_type": "code",
   "execution_count": 31,
   "id": "f1de4176-3643-4af3-b19d-eb346a0e5f4a",
   "metadata": {},
   "outputs": [],
   "source": [
    "x, y, z = fruits"
   ]
  },
  {
   "cell_type": "code",
   "execution_count": 32,
   "id": "ac7e3951-5ae0-4ef3-8713-21046121a392",
   "metadata": {},
   "outputs": [
    {
     "data": {
      "text/plain": [
       "'Orange'"
      ]
     },
     "execution_count": 32,
     "metadata": {},
     "output_type": "execute_result"
    }
   ],
   "source": [
    "x"
   ]
  },
  {
   "cell_type": "code",
   "execution_count": 33,
   "id": "e0419896-293a-4372-9ae8-e3db55db38f4",
   "metadata": {},
   "outputs": [
    {
     "data": {
      "text/plain": [
       "'Banana'"
      ]
     },
     "execution_count": 33,
     "metadata": {},
     "output_type": "execute_result"
    }
   ],
   "source": [
    "y"
   ]
  },
  {
   "cell_type": "code",
   "execution_count": 34,
   "id": "f00ce8ea-7487-4800-bb1a-406084c8527c",
   "metadata": {},
   "outputs": [
    {
     "data": {
      "text/plain": [
       "'Cherry'"
      ]
     },
     "execution_count": 34,
     "metadata": {},
     "output_type": "execute_result"
    }
   ],
   "source": [
    "z"
   ]
  },
  {
   "cell_type": "code",
   "execution_count": null,
   "id": "c00181ed-b0c0-42ce-9e45-8a9c078b510e",
   "metadata": {},
   "outputs": [],
   "source": []
  }
 ],
 "metadata": {
  "kernelspec": {
   "display_name": "Python 3 (ipykernel)",
   "language": "python",
   "name": "python3"
  },
  "language_info": {
   "codemirror_mode": {
    "name": "ipython",
    "version": 3
   },
   "file_extension": ".py",
   "mimetype": "text/x-python",
   "name": "python",
   "nbconvert_exporter": "python",
   "pygments_lexer": "ipython3",
   "version": "3.10.9"
  }
 },
 "nbformat": 4,
 "nbformat_minor": 5
}
