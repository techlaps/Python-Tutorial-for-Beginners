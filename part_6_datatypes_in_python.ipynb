{
 "cells": [
  {
   "cell_type": "markdown",
   "id": "b568d674-6be3-4fce-879f-f62a3095043b",
   "metadata": {
    "tags": []
   },
   "source": [
    "### Data Types in Python"
   ]
  },
  {
   "cell_type": "markdown",
   "id": "86485fbb-06ed-4daa-ad5f-4aa81752e2b0",
   "metadata": {
    "tags": []
   },
   "source": [
    "In programming, data type is an important concept.\n",
    "\n",
    "Variables can store data of different types, and different types can do different things.\n",
    "\n",
    "Python has the following data types built-in by default, in these categories:"
   ]
  },
  {
   "cell_type": "markdown",
   "id": "0e207065-1d01-4146-99d3-8965a79d3a31",
   "metadata": {},
   "source": [
    "<table style=\"width:75%\">\n",
    "    <tr>\n",
    "        <th style=\"text-align:left\">Data Type Category</th>\n",
    "        <th style=\"text-align:left\">Data Type</th>\n",
    "    </tr>\n",
    "    <tr>\n",
    "        <td>Text Type</td>\n",
    "        <td>str</td>\n",
    "    </tr>\n",
    "    <tr>\n",
    "        <td>Numeric Types</td>\n",
    "        <td>int, float, complex</td>\n",
    "    </tr>\n",
    "    <tr>\n",
    "        <td>Sequence Types</td>\n",
    "        <td>list, tuple, range</td>\n",
    "    </tr>\n",
    "    <tr>\n",
    "        <td>Mapping Type</td>\n",
    "        <td>dict</td>\n",
    "    </tr>\n",
    "    <tr>\n",
    "        <td>Set Types</td>\n",
    "        <td>set, frozenset</td>\n",
    "    </tr>\n",
    "    <tr>\n",
    "        <td>Boolean Type</td>\n",
    "        <td>bool</td>\n",
    "    </tr>\n",
    "    <tr>\n",
    "        <td>Binary Types</td>\n",
    "        <td>bytes, bytearray, memoryview</td>\n",
    "    </tr>\n",
    "    <tr>\n",
    "        <td>None Type</td>\n",
    "        <td>None</td>\n",
    "    </tr>\n",
    "    <tr></tr>\n",
    "</table>"
   ]
  },
  {
   "cell_type": "code",
   "execution_count": 3,
   "id": "9d8b54fe-dfb6-4d23-9683-339410f3b548",
   "metadata": {},
   "outputs": [],
   "source": [
    "a = 5\n",
    "\n",
    "message = \"Hello Python!\"\n",
    "\n",
    "customer_name = 'John'"
   ]
  },
  {
   "cell_type": "code",
   "execution_count": 4,
   "id": "3fe360e2-4ae2-4b0a-9bc5-3d1000ce341a",
   "metadata": {},
   "outputs": [
    {
     "data": {
      "text/plain": [
       "5"
      ]
     },
     "execution_count": 4,
     "metadata": {},
     "output_type": "execute_result"
    }
   ],
   "source": [
    "a"
   ]
  },
  {
   "cell_type": "code",
   "execution_count": 5,
   "id": "bf047aeb-63e7-4c4c-8052-19bb66ac1e82",
   "metadata": {},
   "outputs": [
    {
     "name": "stdout",
     "output_type": "stream",
     "text": [
      "<class 'int'>\n"
     ]
    }
   ],
   "source": [
    "print(type(a))"
   ]
  },
  {
   "cell_type": "code",
   "execution_count": 6,
   "id": "cda2b0e1-7f90-48dc-9c2e-1d18a0cbca53",
   "metadata": {},
   "outputs": [
    {
     "data": {
      "text/plain": [
       "'Hello Python!'"
      ]
     },
     "execution_count": 6,
     "metadata": {},
     "output_type": "execute_result"
    }
   ],
   "source": [
    "message"
   ]
  },
  {
   "cell_type": "code",
   "execution_count": 7,
   "id": "cabbb152-1a5e-4830-b49a-cd5fc4614f75",
   "metadata": {},
   "outputs": [
    {
     "name": "stdout",
     "output_type": "stream",
     "text": [
      "<class 'str'>\n"
     ]
    }
   ],
   "source": [
    "print(type(message))"
   ]
  },
  {
   "cell_type": "code",
   "execution_count": 8,
   "id": "4d54e056-c15f-4f44-b111-bf9b7da2c791",
   "metadata": {},
   "outputs": [
    {
     "data": {
      "text/plain": [
       "'John'"
      ]
     },
     "execution_count": 8,
     "metadata": {},
     "output_type": "execute_result"
    }
   ],
   "source": [
    "customer_name"
   ]
  },
  {
   "cell_type": "code",
   "execution_count": 9,
   "id": "9e22bced-89cd-40e1-9073-4e7885377653",
   "metadata": {},
   "outputs": [
    {
     "name": "stdout",
     "output_type": "stream",
     "text": [
      "<class 'str'>\n"
     ]
    }
   ],
   "source": [
    "print(type(customer_name))"
   ]
  },
  {
   "cell_type": "code",
   "execution_count": 10,
   "id": "3c342afb-ee49-4bf6-8e43-af896932dd98",
   "metadata": {},
   "outputs": [],
   "source": [
    "product_price = 10.5"
   ]
  },
  {
   "cell_type": "code",
   "execution_count": 12,
   "id": "bc6735ad-2b78-44f6-8f2d-1c372bb5abde",
   "metadata": {},
   "outputs": [
    {
     "data": {
      "text/plain": [
       "float"
      ]
     },
     "execution_count": 12,
     "metadata": {},
     "output_type": "execute_result"
    }
   ],
   "source": [
    "type(product_price)"
   ]
  },
  {
   "cell_type": "code",
   "execution_count": 11,
   "id": "5aaca850-a7bf-4fae-8399-24284f367348",
   "metadata": {},
   "outputs": [
    {
     "data": {
      "text/plain": [
       "10.5"
      ]
     },
     "execution_count": 11,
     "metadata": {},
     "output_type": "execute_result"
    }
   ],
   "source": [
    "product_price"
   ]
  },
  {
   "cell_type": "code",
   "execution_count": 13,
   "id": "8d68eed6-1f8b-47d0-ae62-7a61dba84850",
   "metadata": {},
   "outputs": [],
   "source": [
    "x, y, z = \"Orange\", \"Banana\", \"Cherry\""
   ]
  },
  {
   "cell_type": "code",
   "execution_count": 14,
   "id": "c1ac0a5b-b9a6-4d1d-8ea5-e74a1a98a949",
   "metadata": {},
   "outputs": [
    {
     "name": "stdout",
     "output_type": "stream",
     "text": [
      "<class 'str'>\n"
     ]
    }
   ],
   "source": [
    "print(type(x))"
   ]
  },
  {
   "cell_type": "code",
   "execution_count": 15,
   "id": "94639fc5-4708-4244-87dc-bdb83fd21b71",
   "metadata": {},
   "outputs": [
    {
     "data": {
      "text/plain": [
       "str"
      ]
     },
     "execution_count": 15,
     "metadata": {},
     "output_type": "execute_result"
    }
   ],
   "source": [
    "type(y)"
   ]
  },
  {
   "cell_type": "code",
   "execution_count": null,
   "id": "b2907bb6-6df8-4db7-9798-c3f19e8345cf",
   "metadata": {},
   "outputs": [],
   "source": [
    "bool"
   ]
  },
  {
   "cell_type": "code",
   "execution_count": 16,
   "id": "e07e020d-661e-47c0-a458-74c2b8991237",
   "metadata": {},
   "outputs": [
    {
     "data": {
      "text/plain": [
       "False"
      ]
     },
     "execution_count": 16,
     "metadata": {},
     "output_type": "execute_result"
    }
   ],
   "source": [
    "# True, False\n",
    "\n",
    "is_married = False\n",
    "\n",
    "is_married"
   ]
  },
  {
   "cell_type": "code",
   "execution_count": 17,
   "id": "0026e357-3fee-4b2d-9511-c0ce21118e6d",
   "metadata": {},
   "outputs": [],
   "source": [
    "is_married = True"
   ]
  },
  {
   "cell_type": "code",
   "execution_count": 18,
   "id": "17a04091-84f8-4dd4-a7d8-b7c160cb5db1",
   "metadata": {},
   "outputs": [
    {
     "data": {
      "text/plain": [
       "True"
      ]
     },
     "execution_count": 18,
     "metadata": {},
     "output_type": "execute_result"
    }
   ],
   "source": [
    "is_married"
   ]
  },
  {
   "cell_type": "code",
   "execution_count": null,
   "id": "255f4b95-8bce-4554-a561-84a2431a7efe",
   "metadata": {},
   "outputs": [],
   "source": []
  }
 ],
 "metadata": {
  "kernelspec": {
   "display_name": "Python 3 (ipykernel)",
   "language": "python",
   "name": "python3"
  },
  "language_info": {
   "codemirror_mode": {
    "name": "ipython",
    "version": 3
   },
   "file_extension": ".py",
   "mimetype": "text/x-python",
   "name": "python",
   "nbconvert_exporter": "python",
   "pygments_lexer": "ipython3",
   "version": "3.10.9"
  }
 },
 "nbformat": 4,
 "nbformat_minor": 5
}
